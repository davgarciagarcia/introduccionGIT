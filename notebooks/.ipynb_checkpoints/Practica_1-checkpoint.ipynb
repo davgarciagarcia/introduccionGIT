{
 "cells": [
  {
   "cell_type": "markdown",
   "metadata": {
    "slideshow": {
     "slide_type": "slide"
    }
   },
   "source": [
    "<img style=\"float:left\" width=\"40%\" src=\"./images/escudo_COLOR_1L_DCHA.png\">\n",
    "<img style=\"float:right\" width=\"12%\" src=\"./images/PythonLogo.svg\">\n",
    "<br style=\"clear:both;\">\n",
    "\n",
    " ../blob/master/myimage.png?raw=true\n",
    "\n",
    "# Sistemas Inteligentes aplicados en Salud\n",
    "\n",
    "<h2 style=\"display: inline-block; padding: 4mm; padding-left: 2em; background-color: navy; line-height: 1.3em; color: white; border-radius: 10px;\">Práctica I</h2>\n",
    "<br style=\"clear:both;\">\n",
    "<h2 style=\"display: inline-block; padding: 4mm; padding-left: 2em; background-color: orange; line-height: 1.3em; color: white; border-radius: 10px;\">Procesado de imágenes de tomografía computerizada</h2>\n",
    "\n",
    "### Grado en Ingeniería de la Salud \n",
    "\n",
    "  **Curso 23-24**\n"
   ]
  },
  {
   "cell_type": "markdown",
   "metadata": {},
   "source": [
    "\n",
    "## Porcentaje de calificación total\n",
    "\n",
    "La Práctica 1 (**Procesado de imágenes de tomografía computerizada**) tendrá un peso del **30%** en el total de la calificación de la parte de prácticas de la asignatura y deberá ser realizada de forma **individual**.\n",
    "\n",
    "------------------\n",
    "# Supuesto práctico\n",
    "\n",
    "Se dispone de imágenes de CT cerebral de dos sujetos en formato Dicom y se solicita por parte del departamento de radiología, la realización de un procesamiento de dichas imágenes de forma que se obtenga la imagen segmentada del hueso para cada uno de los sujetos. [Enlace Carpeta Dicom](https://universidaddeburgos-my.sharepoint.com/:f:/g/personal/dgarcia1_ubu_es/EncLfFioQFhHn8tWfUHhxlMBCkTwtCjSyIAQAYgCWmDn0w?e=jDfiBF) \n"
   ]
  },
  {
   "cell_type": "markdown",
   "metadata": {},
   "source": [
    "# Introducción\n",
    "\n",
    "\n",
    "## Tomografía Computarizada (TC)\n",
    "\n",
    "El término \"tomografía computarizada\", o TC, se refiere a un procedimiento computarizado de toma de imágenes con rayos X en el que se proyecta un haz angosto de rayos X a un paciente y se gira rápidamente alrededor del cuerpo, produciendo señales que son procesadas para generar imágenes transversales, o \"cortes\". Estos cortes se llaman imágenes tomográficas y pueden brindar al médico información más detallada que las radiografías convencionales. Una vez se recopilan varios cortes sucesivos, estos se pueden \"apilar\" digitalmente para formar una imagen tridimensional del paciente que permite identificar más fácilmente las estructuras básicas, así como posibles tumores o anomalías.\n",
    "\n",
    "<img style=\"float:center\" width=\"50%\" src=\"images/TAC_scanner.jpg\">\n",
    "\n"
   ]
  },
  {
   "cell_type": "markdown",
   "metadata": {},
   "source": [
    "## Unidades de medida en TC\n",
    "\n",
    "La escala de Unidades Hounsfield (‘escala Hounsfield’ o ‘escala de números TC’) nombrada en honor del ingeniero y Premio Nobel de Fisiología o Medicina inglés Sir Godfrey Newbold Hounsfield, es una escala cuantitativa utilizada en los estudios de tomografía computarizada (TC) para describir los diferentes niveles de radiodensidad de los tejidos humanos. \n",
    "\n",
    "\n",
    "<img style=\"float:center\" width=\"50%\" src=\"images/tabla_hounsfield.png\">\n",
    "\n",
    "A partir de los datos almacenados en la imagen Dicom de un CT, podemos obtener los valores en unidades Hounsfield empleando la siguiente fórmula: \n",
    "\n",
    "                ValorHounsfield = m*SV + b\n",
    "donde:\n",
    "- *m* es el valor de reescalado de la pendiente\n",
    "- *b* es el valor constante de intercepción\n",
    "- *SV* son los valores almacenados en la imagen dicom \n",
    "Podemos encontrar estos valores en la cabecera Dicom de la imagen en los siguientes campos:\n",
    "\n",
    ">**Rescale Intercept** (0028,1052) es `b` en la ecuación \n",
    "\n",
    ">**Rescale Slope** (0028,1053) es `m` en la ecuación\n",
    "\n",
    "**Referencia**: https://dicom.nema.org/Dicom/CP/CPack-32_PDF/cp519_lb.pdf"
   ]
  },
  {
   "cell_type": "markdown",
   "metadata": {},
   "source": [
    "## Requisitos de la práctica:\n",
    "\n",
    "### Parte 1\n",
    "\n",
    "- Cargar imagenes Dicom 3D y convertir los datos almacenados en cada imagen a unidades Hounsfield.\n",
    "- Crear un informe con datos formateados relacionados con el sujeto y con el proceso de aquisición de las imágenes.\n",
    "- Mostrar resultados en los tres cortes (axial, sagital y coronal) y el histograma de la imagen 3D de manera similar a la siguiente figura:\n",
    "<img style=\"float:center\" width=\"50%\" src=\"images/muestra_resultado_visor_final.png\">\n",
    "\n",
    "### Parte 2 \n",
    "- Realizar segmentación de la región de hueso en CT mediante umbralización de valores HS.\n",
    "- Realizar segmentación de region de hueso en CT mediante threshold Otsu.\n",
    "<img style=\"float:center\" width=\"50%\" src=\"images/segmentacion_hueso.png\">\n"
   ]
  },
  {
   "cell_type": "markdown",
   "metadata": {},
   "source": [
    "\n",
    "## Tareas a realizar\n",
    "\n",
    "- Implementar las funciones necesarias para realizar los pasos descritos anteriormente.\n",
    "    - Carga de imagenes DICOM\n",
    "        - Parámetros de entrada sugeridos:\n",
    "            - Dirección de la carpeta en la que se encuentran almacenadas las imágenes\n",
    "    - Creación de informe de datos de sujeto y CT\n",
    "        - Parámetros de entrada sugeridos:\n",
    "            - Estructura de datos que contenga la información de la imagen Dicom\n",
    "    - Visor de imágenes\n",
    "        - Parámetros de entrada sugeridos:\n",
    "            - Estructura de datos que contenga los datos de la imagen\n",
    "            - Opcional:\n",
    "                - Corte axial, sagital y coronal a mostrar.\n",
    "    - Segmentación mediante valor HS.\n",
    "        - Parámetros de entrada sugeridos:\n",
    "            - Estructura de datos que contenga los datos de la imagen\n",
    "            - Estructura de datos que contenga los umbrales a emplear\n",
    "    - Segmentación mediante Otsu.\n",
    "        - Parámetros de entrada sugeridos:\n",
    "            - Estructura de datos que contenga los datos de la imagen\n",
    "            \n",
    "- Documentar los pasos seguidos en la implementación y las instrucciones para realizar la comprobación del cumplimiento de los requisitos propuestos.\n",
    "\n",
    "**Cada una de estas funciones puede tener asociadas otras subfunciones dependiendo de la estrategia de implementación realizada.** \n",
    "\n",
    "**Debes elegir convenientemente las estructuras o datos que devuelve cada una de las funciones.**     \n",
    "\n",
    "\n",
    "\n",
    "### IMPORTANTE \n",
    "- Modularizar las funciones que se incluyan en uno o varios archivos dentro de la carpeta ```modules```.\n",
    "- Ejecutar las funciones mediante su importación y mostrar los resultados en un notebook de Jupyter.\n",
    "- Todas las funciones implementadas deben estar correctamente documentadas.\n",
    "\n",
    "\n",
    "## Documentos a entregar\n",
    "\n",
    "- Carpeta con los archivos necesarios para comprobar el correcto funcionamiento de los requisitos.\n",
    "    - Notebook de ejecución\n",
    "        - Instrucciones de ejecución\n",
    "        - Ejemplo de ejecución\n",
    "    - Carpeta ```modules```con los módulos implementados necesarios para la ejecución.\n",
    "- (Opcional) Documento pdf que incluya el detalle de la implementación e instrucciones si se quiere ampliar lo incluido en el notebook de ejecución.\n",
    "\n",
    "- **No es necesario incluir la carpeta con las imagenes Dicom.**\n",
    "\n",
    "**Todos estos documentos deben ser incluidos en un único archivo comprimido *zip* o *rar* y subidos al buzón de entrega correspondiente.**\n",
    "\n",
    "\n",
    "------------------\n",
    "\n",
    "## Fecha de entrega\n",
    "\n",
    "- La fecha límite para la entrega de los documentos de la Práctica 1 será el **lunes 30 de octubre de 2023**.\n",
    "- Todos aquellos archivos que no se entreguen a través del buzón correspondiente dentro de los límites temporales establecidos, no se serán evaluados ni calificados.\n",
    "------------------\n",
    "\n",
    "\n",
    "## Rúbrica de calificación:\n",
    "\n",
    "- Carga de imagenes DICOM (2 puntos)\n",
    "- Creación de informe de datos de sujeto y adquisición (1 punto)\n",
    "- Visor de imágenes (3 puntos)\n",
    "- Segmentación mediante valor HS.(2 puntos)\n",
    "- Segmentación mediante Otsu. (2 puntos)\n",
    "\n",
    "\n",
    "<div class=\"alert alert-danger\"> <b>IMPORTANTE: </b> Sino se modularizan las funciones implementadas y la funciones no están correctamente documentadas, la calificación final podrá reducirse hasta un <b>30%</b></div>\n"
   ]
  }
 ],
 "metadata": {
  "celltoolbar": "Slideshow",
  "kernelspec": {
   "display_name": "Python 3 (ipykernel)",
   "language": "python",
   "name": "python3"
  },
  "language_info": {
   "codemirror_mode": {
    "name": "ipython",
    "version": 3
   },
   "file_extension": ".py",
   "mimetype": "text/x-python",
   "name": "python",
   "nbconvert_exporter": "python",
   "pygments_lexer": "ipython3",
   "version": "3.12.4"
  }
 },
 "nbformat": 4,
 "nbformat_minor": 4
}
